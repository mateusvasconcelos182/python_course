{
 "metadata": {
  "language_info": {
   "codemirror_mode": {
    "name": "ipython",
    "version": 3
   },
   "file_extension": ".py",
   "mimetype": "text/x-python",
   "name": "python",
   "nbconvert_exporter": "python",
   "pygments_lexer": "ipython3",
   "version": "3.9.5"
  },
  "orig_nbformat": 2,
  "kernelspec": {
   "name": "python395jvsc74a57bd07dea30b6c03ab7e134c0e74006a546b873dc5838ff7024ff5edf21dbf1fb34a3",
   "display_name": "Python 3.9.5 64-bit"
  }
 },
 "nbformat": 4,
 "nbformat_minor": 2,
 "cells": [
  {
   "cell_type": "code",
   "execution_count": 1,
   "metadata": {},
   "outputs": [],
   "source": [
    "#Regular expression operations\n",
    "import re"
   ]
  },
  {
   "cell_type": "code",
   "execution_count": 2,
   "metadata": {},
   "outputs": [
    {
     "output_type": "execute_result",
     "data": {
      "text/plain": [
       "<re.Match object; span=(0, 2), match='Py'>"
      ]
     },
     "metadata": {},
     "execution_count": 2
    }
   ],
   "source": [
    "# result is an object (data + behavior)\n",
    "result = re.match('Py', 'Python')\n",
    "result"
   ]
  },
  {
   "cell_type": "code",
   "execution_count": 3,
   "metadata": {},
   "outputs": [
    {
     "output_type": "execute_result",
     "data": {
      "text/plain": [
       "'Py'"
      ]
     },
     "metadata": {},
     "execution_count": 3
    }
   ],
   "source": [
    "result.group()"
   ]
  },
  {
   "cell_type": "code",
   "execution_count": 4,
   "metadata": {},
   "outputs": [],
   "source": [
    "result = re.match('py', 'Python')\n",
    "result"
   ]
  },
  {
   "cell_type": "code",
   "execution_count": 5,
   "metadata": {},
   "outputs": [
    {
     "output_type": "error",
     "ename": "AttributeError",
     "evalue": "'NoneType' object has no attribute 'group'",
     "traceback": [
      "\u001b[1;31m---------------------------------------------------------------------------\u001b[0m",
      "\u001b[1;31mAttributeError\u001b[0m                            Traceback (most recent call last)",
      "\u001b[1;32m<ipython-input-5-0459bcbfd6b1>\u001b[0m in \u001b[0;36m<module>\u001b[1;34m\u001b[0m\n\u001b[0;32m      3\u001b[0m \u001b[1;31m#In this case, this function is case sensitive\u001b[0m\u001b[1;33m\u001b[0m\u001b[1;33m\u001b[0m\u001b[1;33m\u001b[0m\u001b[0m\n\u001b[0;32m      4\u001b[0m \u001b[1;33m\u001b[0m\u001b[0m\n\u001b[1;32m----> 5\u001b[1;33m \u001b[0mresult\u001b[0m\u001b[1;33m.\u001b[0m\u001b[0mgroup\u001b[0m\u001b[1;33m(\u001b[0m\u001b[1;33m)\u001b[0m\u001b[1;33m\u001b[0m\u001b[1;33m\u001b[0m\u001b[0m\n\u001b[0m",
      "\u001b[1;31mAttributeError\u001b[0m: 'NoneType' object has no attribute 'group'"
     ]
    }
   ],
   "source": [
    "#When the code doesn't find anything correponding to\n",
    "#the case term, group return an object with 'noneType'\n",
    "#In this case, this function is case sensitive\n",
    "\n",
    "result.group()"
   ]
  },
  {
   "cell_type": "code",
   "execution_count": 6,
   "metadata": {},
   "outputs": [
    {
     "output_type": "execute_result",
     "data": {
      "text/plain": [
       "'Py'"
      ]
     },
     "metadata": {},
     "execution_count": 6
    }
   ],
   "source": [
    "#It doesn't see if the 'p' is lowercase or uppercase\n",
    "result = re.match('[pP]y', 'Python')\n",
    "result.group()"
   ]
  },
  {
   "cell_type": "code",
   "execution_count": 8,
   "metadata": {},
   "outputs": [
    {
     "output_type": "error",
     "ename": "SyntaxError",
     "evalue": "invalid syntax (<ipython-input-8-4ac348c97d61>, line 3)",
     "traceback": [
      "\u001b[1;36m  File \u001b[1;32m\"<ipython-input-8-4ac348c97d61>\"\u001b[1;36m, line \u001b[1;32m3\u001b[0m\n\u001b[1;33m    result = re.match('[A-Za-z]y','Python ou Jupyter')result.group()\u001b[0m\n\u001b[1;37m                                                      ^\u001b[0m\n\u001b[1;31mSyntaxError\u001b[0m\u001b[1;31m:\u001b[0m invalid syntax\n"
     ]
    }
   ],
   "source": [
    "# It find all words with 'y'\n",
    "#Captch only the first result (Python in this case)\n",
    "result = re.match('[A-Za-z]y','Python ou Jupyter')result.group()"
   ]
  },
  {
   "cell_type": "code",
   "execution_count": 11,
   "metadata": {},
   "outputs": [],
   "source": [
    "#it find all words with 'y'\n",
    "# Captch all results\n",
    "# Note: Don't use '.group()' in this case\n",
    "#re.dinsdall return a list\n",
    "\n",
    "result = re.findall('[A-Za-z]y[A-Za-z]+','2ython ou Jupyter or pypy')"
   ]
  },
  {
   "cell_type": "code",
   "execution_count": 12,
   "metadata": {},
   "outputs": [
    {
     "output_type": "execute_result",
     "data": {
      "text/plain": [
       "['pyter', 'pypy']"
      ]
     },
     "metadata": {},
     "execution_count": 12
    }
   ],
   "source": [
    "result"
   ]
  },
  {
   "cell_type": "code",
   "execution_count": 13,
   "metadata": {},
   "outputs": [
    {
     "output_type": "execute_result",
     "data": {
      "text/plain": [
       "[]"
      ]
     },
     "metadata": {},
     "execution_count": 13
    }
   ],
   "source": [
    "# Meanings: \n",
    "# '\\w' - Stores the next and the previous letters \n",
    "# '\\w+'- Stores the full word (with numbers)\n",
    "# '\\d' - Stores words that contain only numbers\n",
    "# '\\s' - Stores the spaces \n",
    "# '.'  - Stores any character\n",
    "# '?'  - Imply that the previous symbol type is optional\n",
    "# 'r'  - Raw string. Used to declare regular expressions\n",
    "# '{number}'   - Indicate the quantity of numbers the word must have\n",
    "# '{number1, number2}' - Stores only words with a quantity od letters between number1 and number 2\n",
    "# '^<letter>/<symbol>/<number>' - indicate with what letter/symbol/number the line must begin\n",
    "# '<letter>/<symbol>/<number>$' - indicate with what letter/symbol/number the line must finish.\n",
    "# Examples: \n",
    "result = re.findall('\\dy\\d','Python3 ou Jupyter or pypy or Python2 MatLab')\n",
    "result"
   ]
  },
  {
   "cell_type": "code",
   "execution_count": 14,
   "metadata": {},
   "outputs": [
    {
     "output_type": "execute_result",
     "data": {
      "text/plain": [
       "['Python3', 'Jupyter', 'pypy', 'Python2']"
      ]
     },
     "metadata": {},
     "execution_count": 14
    }
   ],
   "source": [
    "result = re.findall('\\w+y\\w+','Python3 ou Jupyter or pypy or Python2 MatLab')\n",
    "result"
   ]
  },
  {
   "cell_type": "code",
   "execution_count": 15,
   "metadata": {},
   "outputs": [
    {
     "output_type": "execute_result",
     "data": {
      "text/plain": [
       "['Python3', 'pyter', 'pypy', 'Python2']"
      ]
     },
     "metadata": {},
     "execution_count": 15
    }
   ],
   "source": [
    "result = re.findall('\\wy\\w+','Python3 ou Jupyter or pypy or Python2 MatLab')\n",
    "result"
   ]
  },
  {
   "cell_type": "code",
   "execution_count": 16,
   "metadata": {},
   "outputs": [
    {
     "output_type": "execute_result",
     "data": {
      "text/plain": [
       "['Python3', 'Python2']"
      ]
     },
     "metadata": {},
     "execution_count": 16
    }
   ],
   "source": [
    "result = re.findall('\\w+y\\w+\\d','Python3 ou Jupyter or pypy or Python2 MatLab')\n",
    "result"
   ]
  },
  {
   "cell_type": "code",
   "execution_count": 17,
   "metadata": {},
   "outputs": [
    {
     "output_type": "execute_result",
     "data": {
      "text/plain": [
       "['Pyt', 'pyt', 'pyp', 'Pyt']"
      ]
     },
     "metadata": {},
     "execution_count": 17
    }
   ],
   "source": [
    "result = re.findall('\\wy\\w','Python3 ou Jupyter or pypy or Python2 MatLab')\n",
    "result"
   ]
  },
  {
   "cell_type": "code",
   "execution_count": 18,
   "metadata": {},
   "outputs": [
    {
     "output_type": "execute_result",
     "data": {
      "text/plain": [
       "[' ', ' ', ' ', ' ', ' ', ' ', ' ']"
      ]
     },
     "metadata": {},
     "execution_count": 18
    }
   ],
   "source": [
    "result = re.findall('\\s','Python3 ou Jupyter or pypy or Python2 MatLab')\n",
    "result"
   ]
  },
  {
   "cell_type": "code",
   "execution_count": 19,
   "metadata": {},
   "outputs": [
    {
     "output_type": "execute_result",
     "data": {
      "text/plain": [
       "['Python3', 'ou', 'Jupyter', 'or', 'pypy', 'or', 'Python2', 'MatLab']"
      ]
     },
     "metadata": {},
     "execution_count": 19
    }
   ],
   "source": [
    "result = re.findall(r'[A-Za-z]+\\d?','555 Python3 ou Jupyter or pypy or Python2 MatLab')\n",
    "result"
   ]
  },
  {
   "cell_type": "code",
   "execution_count": 20,
   "metadata": {},
   "outputs": [
    {
     "output_type": "execute_result",
     "data": {
      "text/plain": [
       "'[A-Z]'"
      ]
     },
     "metadata": {},
     "execution_count": 20
    }
   ],
   "source": [
    "# raw string - to avoid something of modify the result\n",
    "r'[A-Z]'"
   ]
  },
  {
   "cell_type": "code",
   "execution_count": 21,
   "metadata": {},
   "outputs": [
    {
     "output_type": "execute_result",
     "data": {
      "text/plain": [
       "'[A-Z]'"
      ]
     },
     "metadata": {},
     "execution_count": 21
    }
   ],
   "source": [
    "# raw string - to avoid something of modify the result\n",
    "r'[A-Z]'"
   ]
  },
  {
   "cell_type": "code",
   "execution_count": 23,
   "metadata": {},
   "outputs": [
    {
     "output_type": "stream",
     "name": "stdout",
     "text": [
      "B-R-A-S-I-L\n"
     ]
    }
   ],
   "source": [
    "letras = ['B','R','A','S','I','L']\n",
    "pais = '-'.join(letras)\n",
    "print (pais)"
   ]
  },
  {
   "cell_type": "code",
   "execution_count": 24,
   "metadata": {},
   "outputs": [
    {
     "output_type": "execute_result",
     "data": {
      "text/plain": [
       "'FabioFlavioNico'"
      ]
     },
     "metadata": {},
     "execution_count": 24
    }
   ],
   "source": [
    "nomes = ['Fabio', 'Flavio','Nico']\n",
    "nomes_concatenados = ''.join(nomes)\n",
    "nomes_concatenados"
   ]
  },
  {
   "cell_type": "code",
   "execution_count": null,
   "metadata": {},
   "outputs": [],
   "source": []
  }
 ]
}